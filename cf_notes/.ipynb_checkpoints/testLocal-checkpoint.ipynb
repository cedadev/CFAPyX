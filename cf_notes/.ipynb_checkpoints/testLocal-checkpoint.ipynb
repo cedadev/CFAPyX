{
 "cells": [
  {
   "cell_type": "code",
   "execution_count": 2,
   "id": "108657e7-b5d1-4808-8b77-959b29ac6509",
   "metadata": {},
   "outputs": [
    {
     "name": "stdout",
     "output_type": "stream",
     "text": [
      "Dan's cfdm copy\n"
     ]
    }
   ],
   "source": [
    "from cf_python import cf\n",
    "from cfdm_local import cfdm"
   ]
  },
  {
   "cell_type": "code",
   "execution_count": null,
   "id": "483e9370-768e-49df-98e8-1e280d0f8b06",
   "metadata": {},
   "outputs": [],
   "source": []
  }
 ],
 "metadata": {
  "kernelspec": {
   "display_name": "Python 3 + Jaspy",
   "language": "python",
   "name": "jaspy"
  },
  "language_info": {
   "codemirror_mode": {
    "name": "ipython",
    "version": 3
   },
   "file_extension": ".py",
   "mimetype": "text/x-python",
   "name": "python",
   "nbconvert_exporter": "python",
   "pygments_lexer": "ipython3",
   "version": "3.11.9"
  }
 },
 "nbformat": 4,
 "nbformat_minor": 5
}
