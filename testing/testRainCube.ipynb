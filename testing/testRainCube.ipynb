{
 "cells": [
  {
   "cell_type": "code",
   "execution_count": 5,
   "id": "b66e2b18-f8a2-48a8-a2dc-cc8c6eafe246",
   "metadata": {},
   "outputs": [],
   "source": [
    "import xarray as xr"
   ]
  },
  {
   "cell_type": "code",
   "execution_count": 18,
   "id": "f9a2bf35-3f05-4023-910c-c94b37fd2ce1",
   "metadata": {},
   "outputs": [],
   "source": [
    "import numpy as np"
   ]
  },
  {
   "cell_type": "code",
   "execution_count": 6,
   "id": "2e6afa19-a568-4b95-b449-917b5b8a2e6e",
   "metadata": {},
   "outputs": [],
   "source": [
    "ds = xr.open_dataset('../testfiles/raincube.nca', engine='CFA', group='rain1',\n",
    "                     cfa_options={'substitutions':\"cfa_python_dw:CFAPyX\", \"decode_cfa\":True})"
   ]
  },
  {
   "cell_type": "code",
   "execution_count": 31,
   "id": "e9fdc8a8-f56b-4826-aac6-1d21d82c391f",
   "metadata": {},
   "outputs": [],
   "source": [
    "p = ds['p'].sel(time=slice(1,2), latitude=slice(50,54), longitude=slice(0,9)).mean(dim='time')"
   ]
  },
  {
   "cell_type": "code",
   "execution_count": 32,
   "id": "51025021-cc36-4927-98fe-291309bae6c3",
   "metadata": {},
   "outputs": [
    {
     "data": {
      "text/plain": [
       "<matplotlib.collections.QuadMesh at 0x7fa0b47a9050>"
      ]
     },
     "execution_count": 32,
     "metadata": {},
     "output_type": "execute_result"
    },
    {
     "data": {
      "image/png": "[encoded data removed]",
      "text/plain": [
       "<Figure size 640x480 with 2 Axes>"
      ]
     },
     "metadata": {},
     "output_type": "display_data"
    }
   ],
   "source": [
    "p.plot()"
   ]
  },
  {
   "cell_type": "code",
   "execution_count": 12,
   "id": "3d839b9a-76ad-463b-b12d-596e1dae45e9",
   "metadata": {},
   "outputs": [],
   "source": [
    "import netCDF4"
   ]
  },
  {
   "cell_type": "code",
   "execution_count": 13,
   "id": "b73d5ef5-f813-4ef4-9fc6-59b0f014814c",
   "metadata": {},
   "outputs": [],
   "source": [
    "ref = netCDF4.Dataset('../testfiles/raincube/example0_1_1.nc')"
   ]
  },
  {
   "cell_type": "code",
   "execution_count": 15,
   "id": "08346332-8b57-4752-bd49-3fff03a29bbb",
   "metadata": {},
   "outputs": [],
   "source": [
    "pr = ref.groups['rain1'].variables['p']"
   ]
  },
  {
   "cell_type": "code",
   "execution_count": 19,
   "id": "2629efe0-f2bb-4135-bb4d-8730e3483894",
   "metadata": {},
   "outputs": [],
   "source": [
    "prn = np.array(pr)"
   ]
  },
  {
   "cell_type": "code",
   "execution_count": 23,
   "id": "9b34e9ba-1684-413c-bfe6-2152b4ef824a",
   "metadata": {},
   "outputs": [
    {
     "data": {
      "text/plain": [
       "(90, 180)"
      ]
     },
     "execution_count": 23,
     "metadata": {},
     "output_type": "execute_result"
    }
   ],
   "source": [
    "prn[0].shape"
   ]
  },
  {
   "cell_type": "code",
   "execution_count": 25,
   "id": "a2a400be-e58a-4bde-b65a-130e04e97074",
   "metadata": {},
   "outputs": [
    {
     "data": {
      "text/plain": [
       "(90, 180)"
      ]
     },
     "execution_count": 25,
     "metadata": {},
     "output_type": "execute_result"
    }
   ],
   "source": [
    "p[0].shape"
   ]
  },
  {
   "cell_type": "code",
   "execution_count": 26,
   "id": "d0b08cbe-de19-451a-8ec6-74eec30c2f73",
   "metadata": {},
   "outputs": [],
   "source": [
    "xfer = p[0] - prn[0]"
   ]
  },
  {
   "cell_type": "code",
   "execution_count": 27,
   "id": "cdea688a-5a8c-46cf-9eab-cae5d318f2ae",
   "metadata": {},
   "outputs": [
    {
     "data": {
      "text/plain": [
       "array([[0., 0., 0., ..., 0., 0., 0.],\n",
       "       [0., 0., 0., ..., 0., 0., 0.],\n",
       "       [0., 0., 0., ..., 0., 0., 0.],\n",
       "       ...,\n",
       "       [0., 0., 0., ..., 0., 0., 0.],\n",
       "       [0., 0., 0., ..., 0., 0., 0.],\n",
       "       [0., 0., 0., ..., 0., 0., 0.]])"
      ]
     },
     "execution_count": 27,
     "metadata": {},
     "output_type": "execute_result"
    }
   ],
   "source": [
    "xfer"
   ]
  },
  {
   "cell_type": "code",
   "execution_count": 32,
   "id": "8d83c675-321b-4ffb-a462-8e3f9ce6f408",
   "metadata": {},
   "outputs": [],
   "source": [
    "qac = pn[140:144]"
   ]
  },
  {
   "cell_type": "code",
   "execution_count": 34,
   "id": "779c09f2-56b6-4337-96d0-0e08d31f03b0",
   "metadata": {},
   "outputs": [
    {
     "data": {
      "text/plain": [
       "array([0.41235605, 0.3201409 , 0.44941687, 0.62288974, 0.55505699,\n",
       "       0.43156043, 0.2503939 , 0.58497592, 0.57973211])"
      ]
     },
     "execution_count": 34,
     "metadata": {},
     "output_type": "execute_result"
    }
   ],
   "source": [
    "qac[0][180:189]"
   ]
  },
  {
   "cell_type": "code",
   "execution_count": null,
   "id": "f5dad19a-b170-4746-af30-349bfc3690af",
   "metadata": {},
   "outputs": [],
   "source": []
  }
 ],
 "metadata": {
  "kernelspec": {
   "display_name": "cfvenv",
   "language": "python",
   "name": "cfvenv"
  },
  "language_info": {
   "codemirror_mode": {
    "name": "ipython",
    "version": 3
   },
   "file_extension": ".py",
   "mimetype": "text/x-python",
   "name": "python",
   "nbconvert_exporter": "python",
   "pygments_lexer": "ipython3",
   "version": "3.11.9"
  }
 },
 "nbformat": 4,
 "nbformat_minor": 5
}
