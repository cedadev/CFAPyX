{
 "cells": [
  {
   "cell_type": "code",
   "execution_count": null,
   "id": "6a13c075-4abb-4cfa-82d1-3657d4a2cc8c",
   "metadata": {},
   "outputs": [],
   "source": [
    "%%time \n",
    "import xarray as xr\n",
    "kfile = '/gws/nopw/j04/cmip6_prep_vol1/kerchunk-pipeline/complete/CMIP6_rel1_6233/ScenarioMIP_CNRM-CERFACS_CNRM-ESM2-1_ssp119_r1i1p1f2_3hr_huss_gr_v20190328_kr1.0.json'\n",
    "ds = xr.open_dataset(kfile, engine='kerchunk')"
   ]
  },
  {
   "cell_type": "code",
   "execution_count": null,
   "id": "ca1d959e-9c03-48e1-a0b4-7f0c7a39324a",
   "metadata": {},
   "outputs": [],
   "source": [
    "%%time\n",
    "h1 = ds['huss'].sel(lat=slice(-60,0), lon=slice(80,180)).isel(time=slice(10000,12000)).mean(dim='time')"
   ]
  },
  {
   "cell_type": "code",
   "execution_count": null,
   "id": "6c4200b8-3a06-4c71-8d51-f39204da3058",
   "metadata": {},
   "outputs": [],
   "source": [
    "%%time\n",
    "h2 = h1.compute()"
   ]
  },
  {
   "cell_type": "code",
   "execution_count": null,
   "id": "312f84a9-5b4f-44f7-886b-cc2d9b8528ab",
   "metadata": {},
   "outputs": [],
   "source": [
    "%%time\n",
    "h2.plot()"
   ]
  },
  {
   "cell_type": "code",
   "execution_count": null,
   "id": "14d9abf7-f490-415e-8090-acf3c270f4dd",
   "metadata": {},
   "outputs": [],
   "source": []
  },
  {
   "cell_type": "code",
   "execution_count": 6,
   "id": "bb7a68c4-b450-4895-a7e0-cc58e9530932",
   "metadata": {},
   "outputs": [],
   "source": [
    "import fsspec\n",
    "import xarray as xr\n",
    "\n",
    "kfile = '/gws/nopw/j04/cmip6_prep_vol1/kerchunk-pipeline/complete/CMIP6_rel1_6233/ScenarioMIP_CNRM-CERFACS_CNRM-ESM2-1_ssp119_r1i1p1f2_3hr_huss_gr_v20190328_kr1.0.json'\n",
    "mapper = fsspec.get_mapper('reference://',fo=kfile)\n",
    "ds = xr.open_zarr(mapper, consolidated=False)"
   ]
  },
  {
   "cell_type": "code",
   "execution_count": null,
   "id": "40540ddd-0129-4bd2-84b3-9eaba4697c4a",
   "metadata": {},
   "outputs": [],
   "source": [
    "ds['huss'].sel(lat=slice(-60,0), lon=slice(80,180)).isel(time=slice(10000,12000))"
   ]
  },
  {
   "cell_type": "code",
   "execution_count": null,
   "id": "45c554c8-5f2e-4758-b920-c93058adecee",
   "metadata": {},
   "outputs": [],
   "source": []
  }
 ],
 "metadata": {
  "kernelspec": {
   "display_name": "cfvenv",
   "language": "python",
   "name": "cfvenv"
  },
  "language_info": {
   "codemirror_mode": {
    "name": "ipython",
    "version": 3
   },
   "file_extension": ".py",
   "mimetype": "text/x-python",
   "name": "python",
   "nbconvert_exporter": "python",
   "pygments_lexer": "ipython3",
   "version": "3.11.9"
  }
 },
 "nbformat": 4,
 "nbformat_minor": 5
}
