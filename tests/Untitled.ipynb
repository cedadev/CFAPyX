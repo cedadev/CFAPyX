{
 "cells": [
  {
   "cell_type": "code",
   "execution_count": 4,
   "id": "b66e2b18-f8a2-48a8-a2dc-cc8c6eafe246",
   "metadata": {},
   "outputs": [],
   "source": [
    "class OneOrMoreArray:\n",
    "    def __init__(self, array):\n",
    "        self.array = array\n",
    "        self.is_one = len(array) == 1\n",
    "\n",
    "    def __getitem__(self, position):\n",
    "        if self.is_one:\n",
    "            return self.array[0]\n",
    "        else:\n",
    "            return self.array[position]"
   ]
  },
  {
   "cell_type": "code",
   "execution_count": 5,
   "id": "2e6afa19-a568-4b95-b449-917b5b8a2e6e",
   "metadata": {},
   "outputs": [],
   "source": [
    "x = OneOrMoreArray([1,2,3,4])"
   ]
  },
  {
   "cell_type": "code",
   "execution_count": 6,
   "id": "e9fdc8a8-f56b-4826-aac6-1d21d82c391f",
   "metadata": {},
   "outputs": [
    {
     "data": {
      "text/plain": [
       "2"
      ]
     },
     "execution_count": 6,
     "metadata": {},
     "output_type": "execute_result"
    }
   ],
   "source": [
    "x[1]"
   ]
  },
  {
   "cell_type": "code",
   "execution_count": 7,
   "id": "b40ded26-5f02-4885-96c5-a4a41dcc87b3",
   "metadata": {},
   "outputs": [],
   "source": [
    "y = OneOrMoreArray([5])"
   ]
  },
  {
   "cell_type": "code",
   "execution_count": 8,
   "id": "b00bc8dc-e1eb-4695-bdd9-f30e2b929aa8",
   "metadata": {},
   "outputs": [
    {
     "data": {
      "text/plain": [
       "5"
      ]
     },
     "execution_count": 8,
     "metadata": {},
     "output_type": "execute_result"
    }
   ],
   "source": [
    "y[6]"
   ]
  },
  {
   "cell_type": "code",
   "execution_count": null,
   "id": "3d839b9a-76ad-463b-b12d-596e1dae45e9",
   "metadata": {},
   "outputs": [],
   "source": []
  }
 ],
 "metadata": {
  "kernelspec": {
   "display_name": "Python 3 + Jaspy",
   "language": "python",
   "name": "jaspy"
  },
  "language_info": {
   "codemirror_mode": {
    "name": "ipython",
    "version": 3
   },
   "file_extension": ".py",
   "mimetype": "text/x-python",
   "name": "python",
   "nbconvert_exporter": "python",
   "pygments_lexer": "ipython3",
   "version": "3.11.9"
  }
 },
 "nbformat": 4,
 "nbformat_minor": 5
}
