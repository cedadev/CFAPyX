{
 "cells": [
  {
   "cell_type": "code",
   "execution_count": 1,
   "id": "0c242fd7-9cce-412e-8ec1-3700dbe57c3f",
   "metadata": {},
   "outputs": [
    {
     "ename": "AssertionError",
     "evalue": "",
     "output_type": "error",
     "traceback": [
      "\u001b[0;31m---------------------------------------------------------------------------\u001b[0m",
      "\u001b[0;31mAssertionError\u001b[0m                            Traceback (most recent call last)",
      "\u001b[1;32m/home/users/dwest77/Documents/cfa_python_dw/tests/testDomain.ipynb Cell 1\u001b[0m line \u001b[0;36m1\n\u001b[0;32m----> <a href='vscode-notebook-cell://ssh-remote%2Bsci1/home/users/dwest77/Documents/cfa_python_dw/tests/testDomain.ipynb#W0sdnNjb2RlLXJlbW90ZQ%3D%3D?line=0'>1</a>\u001b[0m \u001b[39mimport\u001b[39;00m \u001b[39mcf\u001b[39;00m\n",
      "File \u001b[0;32m/apps/jasmin/jaspy/miniforge_envs/jaspy3.11/mf3-23.11.0-0/envs/jaspy3.11-mf3-23.11.0-0-r20240508/lib/python3.11/site-packages/cf/__init__.py:129\u001b[0m\n\u001b[1;32m    126\u001b[0m     \u001b[39mraise\u001b[39;00m \u001b[39mImportError\u001b[39;00m(_error0 \u001b[39m+\u001b[39m \u001b[39mstr\u001b[39m(error1))\n\u001b[1;32m    128\u001b[0m \u001b[39mtry\u001b[39;00m:\n\u001b[0;32m--> 129\u001b[0m     \u001b[39mimport\u001b[39;00m \u001b[39mcfunits\u001b[39;00m\n\u001b[1;32m    130\u001b[0m \u001b[39mexcept\u001b[39;00m \u001b[39mImportError\u001b[39;00m \u001b[39mas\u001b[39;00m error1:\n\u001b[1;32m    131\u001b[0m     \u001b[39mraise\u001b[39;00m \u001b[39mImportError\u001b[39;00m(_error0 \u001b[39m+\u001b[39m \u001b[39mstr\u001b[39m(error1))\n",
      "File \u001b[0;32m/apps/jasmin/jaspy/miniforge_envs/jaspy3.11/mf3-23.11.0-0/envs/jaspy3.11-mf3-23.11.0-0-r20240508/lib/python3.11/site-packages/cfunits/__init__.py:47\u001b[0m\n\u001b[1;32m     41\u001b[0m \u001b[39mif\u001b[39;00m Version(cftime\u001b[39m.\u001b[39m__version__) \u001b[39m<\u001b[39m Version(_minimum_vn):\n\u001b[1;32m     42\u001b[0m     \u001b[39mraise\u001b[39;00m \u001b[39mValueError\u001b[39;00m(\n\u001b[1;32m     43\u001b[0m         \u001b[39mf\u001b[39m\u001b[39m\"\u001b[39m\u001b[39mBad cftime version: cfunits requires cftime>=\u001b[39m\u001b[39m{\u001b[39;00m_minimum_vn\u001b[39m}\u001b[39;00m\u001b[39m. Got \u001b[39m\u001b[39m\"\u001b[39m\n\u001b[1;32m     44\u001b[0m         \u001b[39mf\u001b[39m\u001b[39m\"\u001b[39m\u001b[39m{\u001b[39;00mcftime\u001b[39m.\u001b[39m__version__\u001b[39m}\u001b[39;00m\u001b[39m at \u001b[39m\u001b[39m{\u001b[39;00mcftime\u001b[39m.\u001b[39m\u001b[39m__file__\u001b[39m\u001b[39m}\u001b[39;00m\u001b[39m\"\u001b[39m\n\u001b[1;32m     45\u001b[0m     )\n\u001b[0;32m---> 47\u001b[0m \u001b[39mfrom\u001b[39;00m \u001b[39m.\u001b[39;00m\u001b[39munits\u001b[39;00m \u001b[39mimport\u001b[39;00m Units  \u001b[39m# noqa: F401\u001b[39;00m\n",
      "File \u001b[0;32m/apps/jasmin/jaspy/miniforge_envs/jaspy3.11/mf3-23.11.0-0/envs/jaspy3.11-mf3-23.11.0-0-r20240508/lib/python3.11/site-packages/cfunits/units.py:225\u001b[0m\n\u001b[1;32m    217\u001b[0m _ut_new_base_unit\u001b[39m.\u001b[39mrestype \u001b[39m=\u001b[39m _c_void_p\n\u001b[1;32m    219\u001b[0m \u001b[39m# Change Sv mapping. Both sievert and sverdrup are just aliases,\u001b[39;00m\n\u001b[1;32m    220\u001b[0m \u001b[39m# so no unit to symbol mapping needs to be changed.\u001b[39;00m\n\u001b[1;32m    221\u001b[0m \u001b[39m# We don't need to remove rem, since it was constructed with\u001b[39;00m\n\u001b[1;32m    222\u001b[0m \u001b[39m# the correct sievert mapping in place; because that mapping\u001b[39;00m\n\u001b[1;32m    223\u001b[0m \u001b[39m# was only an alias, the unit now doesn't depend on the mapping\u001b[39;00m\n\u001b[1;32m    224\u001b[0m \u001b[39m# persisting.\u001b[39;00m\n\u001b[0;32m--> 225\u001b[0m \u001b[39massert\u001b[39;00m \u001b[39m0\u001b[39m \u001b[39m==\u001b[39m _ut_unmap_symbol_to_unit(_ut_system, _c_char_p(\u001b[39mb\u001b[39m\u001b[39m\"\u001b[39m\u001b[39mSv\u001b[39m\u001b[39m\"\u001b[39m), _UT_ASCII)\n\u001b[1;32m    226\u001b[0m \u001b[39massert\u001b[39;00m \u001b[39m0\u001b[39m \u001b[39m==\u001b[39m _ut_map_symbol_to_unit(\n\u001b[1;32m    227\u001b[0m     _c_char_p(\u001b[39mb\u001b[39m\u001b[39m\"\u001b[39m\u001b[39mSv\u001b[39m\u001b[39m\"\u001b[39m),\n\u001b[1;32m    228\u001b[0m     _UT_ASCII,\n\u001b[1;32m    229\u001b[0m     _ut_get_unit_by_name(_ut_system, _c_char_p(\u001b[39mb\u001b[39m\u001b[39m\"\u001b[39m\u001b[39msverdrup\u001b[39m\u001b[39m\"\u001b[39m)),\n\u001b[1;32m    230\u001b[0m )\n\u001b[1;32m    232\u001b[0m \u001b[39m# Add new base unit calendar_year\u001b[39;00m\n",
      "\u001b[0;31mAssertionError\u001b[0m: "
     ]
    }
   ],
   "source": [
    "import cf"
   ]
  }
 ],
 "metadata": {
  "kernelspec": {
   "display_name": "jaspy_local",
   "language": "python",
   "name": "python3"
  },
  "language_info": {
   "codemirror_mode": {
    "name": "ipython",
    "version": 3
   },
   "file_extension": ".py",
   "mimetype": "text/x-python",
   "name": "python",
   "nbconvert_exporter": "python",
   "pygments_lexer": "ipython3",
   "version": "3.11.9"
  }
 },
 "nbformat": 4,
 "nbformat_minor": 5
}
