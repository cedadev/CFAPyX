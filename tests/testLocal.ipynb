{
 "cells": [
  {
   "cell_type": "code",
   "execution_count": 1,
   "id": "108657e7-b5d1-4808-8b77-959b29ac6509",
   "metadata": {},
   "outputs": [
    {
     "name": "stdout",
     "output_type": "stream",
     "text": [
      "Dan's local copy of cf-python\n",
      "Dan's cfdm copy\n"
     ]
    }
   ],
   "source": [
    "from cf_python import cf\n",
    "from cfdm_local import cfdm"
   ]
  },
  {
   "cell_type": "code",
   "execution_count": 2,
   "id": "483e9370-768e-49df-98e8-1e280d0f8b06",
   "metadata": {},
   "outputs": [],
   "source": [
    "x = cf.example_field(0)"
   ]
  },
  {
   "cell_type": "code",
   "execution_count": 3,
   "id": "9c3880eb-e210-4f04-8057-c1f11042cd8f",
   "metadata": {},
   "outputs": [
    {
     "data": {
      "text/plain": [
       "<CF Field: specific_humidity(latitude(5), longitude(8)) 1>"
      ]
     },
     "execution_count": 3,
     "metadata": {},
     "output_type": "execute_result"
    }
   ],
   "source": [
    "x"
   ]
  },
  {
   "cell_type": "code",
   "execution_count": 7,
   "id": "31620f82-1773-4e55-8ea0-68bf529fb097",
   "metadata": {},
   "outputs": [],
   "source": [
    "d = x.get_data()"
   ]
  },
  {
   "cell_type": "code",
   "execution_count": 9,
   "id": "dc188eea-c142-4c27-bfbf-9de6b95cec63",
   "metadata": {},
   "outputs": [
    {
     "data": {
      "text/plain": [
       "False"
      ]
     },
     "execution_count": 9,
     "metadata": {},
     "output_type": "execute_result"
    }
   ],
   "source": [
    "d.cfa_get_write()"
   ]
  },
  {
   "cell_type": "code",
   "execution_count": null,
   "id": "af59449c-2fc5-4107-9c4d-f338a4004dc7",
   "metadata": {},
   "outputs": [],
   "source": [
    "cf.write(x[:2], 'file1.nc')\n",
    "cf.write(x[2:], 'file2.nc')\n",
    "f = cf.read('file[12].nc')[0]"
   ]
  },
  {
   "cell_type": "code",
   "execution_count": null,
   "id": "01f6733a-5c9b-44d6-becf-1d731e2408fb",
   "metadata": {},
   "outputs": [],
   "source": []
  }
 ],
 "metadata": {
  "kernelspec": {
   "display_name": "Python 3 + Jaspy",
   "language": "python",
   "name": "jaspy"
  },
  "language_info": {
   "codemirror_mode": {
    "name": "ipython",
    "version": 3
   },
   "file_extension": ".py",
   "mimetype": "text/x-python",
   "name": "python",
   "nbconvert_exporter": "python",
   "pygments_lexer": "ipython3",
   "version": "3.11.9"
  }
 },
 "nbformat": 4,
 "nbformat_minor": 5
}
